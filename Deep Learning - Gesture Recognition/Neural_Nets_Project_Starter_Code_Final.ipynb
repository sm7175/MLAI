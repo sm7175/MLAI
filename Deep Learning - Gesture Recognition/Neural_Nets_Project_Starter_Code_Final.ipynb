{
 "cells": [
  {
   "cell_type": "markdown",
   "metadata": {},
   "source": [
    "# Gesture Recognition\n",
    "In this group project, you are going to build a 3D Conv model that will be able to predict the 5 gestures correctly. Please import the following libraries to get started."
   ]
  },
  {
   "cell_type": "code",
   "execution_count": 1,
   "metadata": {},
   "outputs": [],
   "source": [
    "import numpy as np\n",
    "import os\n",
    "from scipy.misc import imread, imresize\n",
    "import datetime\n",
    "import os\n",
    "import cv2"
   ]
  },
  {
   "cell_type": "markdown",
   "metadata": {},
   "source": [
    "We set the random seed so that the results don't vary drastically."
   ]
  },
  {
   "cell_type": "code",
   "execution_count": 2,
   "metadata": {},
   "outputs": [
    {
     "name": "stderr",
     "output_type": "stream",
     "text": [
      "Using TensorFlow backend.\n"
     ]
    }
   ],
   "source": [
    "np.random.seed(30)\n",
    "import random as rn\n",
    "rn.seed(30)\n",
    "from keras import backend as K\n",
    "import tensorflow as tf\n",
    "tf.set_random_seed(30)"
   ]
  },
  {
   "cell_type": "markdown",
   "metadata": {},
   "source": [
    "In this block, you read the folder names for training and validation. We will set the initial `batch_size` here. Note that we will experimentally set the batch size in such a way that you are able to use the GPU in full capacity. Keep increasing the batch size until the machine throws an error."
   ]
  },
  {
   "cell_type": "code",
   "execution_count": 3,
   "metadata": {},
   "outputs": [],
   "source": [
    "train_doc = np.random.permutation(open('./Project_data/train.csv').readlines())\n",
    "val_doc = np.random.permutation(open('./Project_data/val.csv').readlines())\n",
    "batch_size = 10 #experiment with the batch size"
   ]
  },
  {
   "cell_type": "markdown",
   "metadata": {},
   "source": [
    "## Generator\n",
    "This is one of the most important part of the code. The overall structure of the generator is broken down into modules. In the generator, we are going to preprocess the images as we have images of 2 different dimensions as well as create a batch of video frames. "
   ]
  },
  {
   "cell_type": "code",
   "execution_count": 4,
   "metadata": {},
   "outputs": [],
   "source": [
    "# Parameters initialization\n",
    "nb_rows = 120   # X dimension of the image\n",
    "nb_cols = 120   # Y dimesnion of the image\n",
    "#total_frames = 30\n",
    "nb_frames = 30  # lenght of the video frames\n",
    "nb_channel = 3 # numbe rof channels in images 3 for color(RGB) and 1 for Gray"
   ]
  },
  {
   "cell_type": "code",
   "execution_count": 5,
   "metadata": {},
   "outputs": [],
   "source": [
    "# generate a random affine transform on the iamge\n",
    "def get_random_affine():\n",
    "    dx, dy = np.random.randint(-1.7, 1.8, 2)\n",
    "    M = np.float32([[1, 0, dx], [0, 1, dy]])\n",
    "    return M"
   ]
  },
  {
   "cell_type": "code",
   "execution_count": 6,
   "metadata": {},
   "outputs": [],
   "source": [
    "# normalise the data\n",
    "def normalize_data(data):\n",
    "    return data/127.5-1"
   ]
  },
  {
   "cell_type": "code",
   "execution_count": 7,
   "metadata": {},
   "outputs": [],
   "source": [
    "# Helper function to initialize all the batch image data and labels\n",
    "def init_batch_data(batch_size):\n",
    "    batch_data = np.zeros((batch_size, nb_frames, nb_rows, nb_cols, nb_channel)) \n",
    "    batch_labels = np.zeros((batch_size,5)) # batch_labels is the one hot representation of the output\n",
    "    return batch_data, batch_labels"
   ]
  },
  {
   "cell_type": "code",
   "execution_count": 8,
   "metadata": {},
   "outputs": [],
   "source": [
    "def prc_batch_images(source_path, folder_list, batch_num, batch_size, t,validation):\n",
    "    \n",
    "    batch_data,batch_labels = init_batch_data(batch_size)\n",
    "    \n",
    "    batch_data_aug,batch_labels_aug = init_batch_data(batch_size)\n",
    "    \n",
    "    batch_data_flip,batch_labels_flip = init_batch_data(batch_size)\n",
    "    \n",
    "    img_idx = [x for x in range(0, nb_frames)] \n",
    "\n",
    "    for folder in range(batch_size): # iterate over the batch_size\n",
    "        imgs = sorted(os.listdir(source_path+'/'+ t[folder + (batch_num*batch_size)].split(';')[0])) \n",
    "\n",
    "        M = get_random_affine()\n",
    "        \n",
    "        #  Iterate over the frames/images of a folder to read them in\n",
    "        for idx, item in enumerate(img_idx): \n",
    "            image = cv2.imread(source_path+'/'+ t[folder + (batch_num*batch_size)].strip().split(';')[0]+'/'+imgs[item], cv2.IMREAD_COLOR)\n",
    "            image = cv2.cvtColor(image, cv2.COLOR_BGR2RGB)\n",
    "            \n",
    "            # Cropping non symmetric frames\n",
    "            if image.shape[0] != image.shape[1]:\n",
    "                image=image[0:120,20:140]\n",
    "            \n",
    "   \n",
    "            resized = cv2.resize(image, (nb_rows,nb_cols), interpolation = cv2.INTER_AREA)\n",
    "            #Normal data\n",
    "            batch_data[folder,idx] = (resized)\n",
    "            \n",
    "            #Data with affine transformation\n",
    "            batch_data_aug[folder,idx] = (cv2.warpAffine(resized, M, (resized.shape[0], resized.shape[1])))\n",
    "            \n",
    "            # Data with horizontal flip\n",
    "            batch_data_flip[folder,idx]= np.flip(resized,1)\n",
    "\n",
    "        batch_labels[folder, int(t[folder + (batch_num*batch_size)].strip().split(';')[2])] = 1\n",
    "        batch_labels_aug[folder, int(t[folder + (batch_num*batch_size)].strip().split(';')[2])] = 1\n",
    "        \n",
    "        # Labeling data with horizobtal flip, right swipe becomes left swipe and viceversa\n",
    "        if int(t[folder + (batch_num*batch_size)].strip().split(';')[2])==0:\n",
    "                    batch_labels_flip[folder, 1] = 1\n",
    "        elif int(t[folder + (batch_num*batch_size)].strip().split(';')[2])==1:\n",
    "                    batch_labels_flip[folder, 0] = 1\n",
    "                    \n",
    "        else:\n",
    "                    batch_labels_flip[folder, int(t[folder + (batch_num*batch_size)].strip().split(';')[2])] = 1\n",
    "                  \n",
    "    \n",
    "    batch_data_final = np.append(batch_data, batch_data_aug, axis = 0)\n",
    "    batch_data_final = np.append(batch_data_final, batch_data_flip, axis = 0)\n",
    "\n",
    "    batch_labels_final = np.append(batch_labels, batch_labels_aug, axis = 0) \n",
    "    batch_labels_final = np.append(batch_labels_final, batch_labels_flip, axis = 0)\n",
    "    \n",
    "    if validation:\n",
    "        batch_data_final=batch_data\n",
    "        batch_labels_final= batch_labels\n",
    "        \n",
    "    return batch_data_final,batch_labels_final"
   ]
  },
  {
   "cell_type": "code",
   "execution_count": 9,
   "metadata": {},
   "outputs": [],
   "source": [
    "def generator(source_path, folder_list, batch_size, validation=False):\n",
    "    print( 'Source path = ', source_path, '; batch size =', batch_size)\n",
    "    while True:\n",
    "        t = np.random.permutation(folder_list)\n",
    "        num_batches = len(folder_list)//batch_size # calculate the number of batches\n",
    "        for batch in range(num_batches): # we iterate over the number of batches\n",
    "            #\n",
    "            yield prc_batch_images(source_path, folder_list, batch, batch_size, t,validation)\n",
    "            \n",
    "\n",
    "        \n",
    "        # Code for the remaining data points which are left after full batches\n",
    "        if (len(folder_list) != batch_size*num_batches):\n",
    "            batch_size = len(folder_list) - (batch_size*num_batches)\n",
    "            yield prc_batch_images(source_path, folder_list, batch, batch_size, t,validation)\n"
   ]
  },
  {
   "cell_type": "markdown",
   "metadata": {},
   "source": [
    "Note here that a video is represented above in the generator as (number of images, height, width, number of channels). Take this into consideration while creating the model architecture."
   ]
  },
  {
   "cell_type": "code",
   "execution_count": 10,
   "metadata": {
    "scrolled": true
   },
   "outputs": [
    {
     "name": "stdout",
     "output_type": "stream",
     "text": [
      "# training sequences = 663\n",
      "# validation sequences = 100\n",
      "# epochs = 10\n"
     ]
    }
   ],
   "source": [
    "curr_dt_time = datetime.datetime.now()\n",
    "train_path = './Project_data/train'\n",
    "val_path = './Project_data/val'\n",
    "num_train_sequences = len(train_doc)\n",
    "print('# training sequences =', num_train_sequences)\n",
    "num_val_sequences = len(val_doc)\n",
    "print('# validation sequences =', num_val_sequences)\n",
    "num_epochs = 10 # choose the number of epochs\n",
    "print ('# epochs =', num_epochs)"
   ]
  },
  {
   "cell_type": "markdown",
   "metadata": {},
   "source": [
    "## Final Model"
   ]
  },
  {
   "cell_type": "code",
   "execution_count": 11,
   "metadata": {},
   "outputs": [],
   "source": [
    "from keras.models import Sequential, Model\n",
    "from keras.layers import Dense, GRU, Flatten, TimeDistributed, Flatten, BatchNormalization, Activation, Dropout\n",
    "from keras.layers.convolutional import Conv3D, MaxPooling3D\n",
    "from keras.callbacks import ModelCheckpoint, ReduceLROnPlateau\n",
    "from keras.losses import categorical_crossentropy\n",
    "from keras.optimizers import Adam\n",
    "\n",
    "nb_filters = [8,16,32,64]\n",
    "nb_dense = [256, 128, 5]\n",
    "\n",
    "# Input\n",
    "input_shape=(nb_frames,nb_rows,nb_cols,nb_channel)\n",
    "\n",
    "# Define model\n",
    "model = Sequential()\n",
    "\n",
    "model.add(Conv3D(nb_filters[0], \n",
    "                 kernel_size=(3,3,3), \n",
    "                 input_shape=input_shape,\n",
    "                 padding='same'))\n",
    "model.add(BatchNormalization())\n",
    "model.add(Activation('relu'))\n",
    "\n",
    "model.add(MaxPooling3D(pool_size=(2,2,2)))\n",
    "\n",
    "model.add(Conv3D(nb_filters[1], \n",
    "                 kernel_size=(3,3,3), \n",
    "                 padding='same'))\n",
    "model.add(BatchNormalization())\n",
    "model.add(Activation('relu'))\n",
    "\n",
    "model.add(MaxPooling3D(pool_size=(2,2,2)))\n",
    "\n",
    "model.add(Conv3D(nb_filters[2], \n",
    "                 kernel_size=(1,3,3), \n",
    "                 padding='same'))\n",
    "model.add(BatchNormalization())\n",
    "model.add(Activation('relu'))\n",
    "\n",
    "model.add(MaxPooling3D(pool_size=(2,2,2)))\n",
    "\n",
    "model.add(Conv3D(nb_filters[3], \n",
    "                 kernel_size=(1,3,3), \n",
    "                 padding='same'))\n",
    "model.add(Activation('relu'))\n",
    "model.add(Dropout(0.25))\n",
    "\n",
    "model.add(MaxPooling3D(pool_size=(2,2,2)))\n",
    "\n",
    "#Flatten Layers\n",
    "model.add(Flatten())\n",
    "\n",
    "model.add(Dense(nb_dense[0], activation='relu'))\n",
    "model.add(Dropout(0.5))\n",
    "\n",
    "model.add(Dense(nb_dense[1], activation='relu'))\n",
    "model.add(Dropout(0.5))\n",
    "\n",
    "#softmax layer\n",
    "model.add(Dense(nb_dense[2], activation='softmax'))"
   ]
  },
  {
   "cell_type": "markdown",
   "metadata": {},
   "source": [
    "Now that you have written the model, the next step is to `compile` the model. When you print the `summary` of the model, you'll see the total number of parameters you have to train."
   ]
  },
  {
   "cell_type": "code",
   "execution_count": 12,
   "metadata": {
    "scrolled": false
   },
   "outputs": [
    {
     "name": "stdout",
     "output_type": "stream",
     "text": [
      "_________________________________________________________________\n",
      "Layer (type)                 Output Shape              Param #   \n",
      "=================================================================\n",
      "conv3d_1 (Conv3D)            (None, 30, 120, 120, 8)   656       \n",
      "_________________________________________________________________\n",
      "batch_normalization_1 (Batch (None, 30, 120, 120, 8)   32        \n",
      "_________________________________________________________________\n",
      "activation_1 (Activation)    (None, 30, 120, 120, 8)   0         \n",
      "_________________________________________________________________\n",
      "max_pooling3d_1 (MaxPooling3 (None, 15, 60, 60, 8)     0         \n",
      "_________________________________________________________________\n",
      "conv3d_2 (Conv3D)            (None, 15, 60, 60, 16)    3472      \n",
      "_________________________________________________________________\n",
      "batch_normalization_2 (Batch (None, 15, 60, 60, 16)    64        \n",
      "_________________________________________________________________\n",
      "activation_2 (Activation)    (None, 15, 60, 60, 16)    0         \n",
      "_________________________________________________________________\n",
      "max_pooling3d_2 (MaxPooling3 (None, 7, 30, 30, 16)     0         \n",
      "_________________________________________________________________\n",
      "conv3d_3 (Conv3D)            (None, 7, 30, 30, 32)     4640      \n",
      "_________________________________________________________________\n",
      "batch_normalization_3 (Batch (None, 7, 30, 30, 32)     128       \n",
      "_________________________________________________________________\n",
      "activation_3 (Activation)    (None, 7, 30, 30, 32)     0         \n",
      "_________________________________________________________________\n",
      "max_pooling3d_3 (MaxPooling3 (None, 3, 15, 15, 32)     0         \n",
      "_________________________________________________________________\n",
      "conv3d_4 (Conv3D)            (None, 3, 15, 15, 64)     18496     \n",
      "_________________________________________________________________\n",
      "activation_4 (Activation)    (None, 3, 15, 15, 64)     0         \n",
      "_________________________________________________________________\n",
      "dropout_1 (Dropout)          (None, 3, 15, 15, 64)     0         \n",
      "_________________________________________________________________\n",
      "max_pooling3d_4 (MaxPooling3 (None, 1, 7, 7, 64)       0         \n",
      "_________________________________________________________________\n",
      "flatten_1 (Flatten)          (None, 3136)              0         \n",
      "_________________________________________________________________\n",
      "dense_1 (Dense)              (None, 256)               803072    \n",
      "_________________________________________________________________\n",
      "dropout_2 (Dropout)          (None, 256)               0         \n",
      "_________________________________________________________________\n",
      "dense_2 (Dense)              (None, 128)               32896     \n",
      "_________________________________________________________________\n",
      "dropout_3 (Dropout)          (None, 128)               0         \n",
      "_________________________________________________________________\n",
      "dense_3 (Dense)              (None, 5)                 645       \n",
      "=================================================================\n",
      "Total params: 864,101\n",
      "Trainable params: 863,989\n",
      "Non-trainable params: 112\n",
      "_________________________________________________________________\n",
      "None\n"
     ]
    }
   ],
   "source": [
    "optimiser = Adam() #write your optimizer\n",
    "model.compile(optimizer=optimiser, loss='categorical_crossentropy', metrics=['categorical_accuracy'])\n",
    "print (model.summary())"
   ]
  },
  {
   "cell_type": "markdown",
   "metadata": {},
   "source": [
    "Let us create the `train_generator` and the `val_generator` which will be used in `.fit_generator`."
   ]
  },
  {
   "cell_type": "code",
   "execution_count": 13,
   "metadata": {},
   "outputs": [],
   "source": [
    "train_generator = generator(train_path, train_doc, batch_size)\n",
    "val_generator = generator(val_path, val_doc, batch_size,validation=True)"
   ]
  },
  {
   "cell_type": "code",
   "execution_count": 14,
   "metadata": {},
   "outputs": [],
   "source": [
    "model_name = 'model_init' + '_' + str(curr_dt_time).replace(' ','').replace(':','_') + '/'\n",
    "    \n",
    "if not os.path.exists(model_name):\n",
    "    os.mkdir(model_name)\n",
    "        \n",
    "filepath = model_name + 'model-{epoch:05d}-{loss:.5f}-{categorical_accuracy:.5f}-{val_loss:.5f}-{val_categorical_accuracy:.5f}.h5'\n",
    "\n",
    "checkpoint = ModelCheckpoint(filepath, monitor='val_loss', verbose=1, save_best_only=False, save_weights_only=False, mode='auto', period=1)\n",
    "\n",
    "# write the Reducelronplateau code here\n",
    "LR = ReduceLROnPlateau(monitor='val_loss', factor=0.5, patience=2, cooldown=1, verbose=1)\n",
    "callbacks_list = [checkpoint, LR]"
   ]
  },
  {
   "cell_type": "markdown",
   "metadata": {},
   "source": [
    "The `steps_per_epoch` and `validation_steps` are used by `fit_generator` to decide the number of next() calls it need to make."
   ]
  },
  {
   "cell_type": "code",
   "execution_count": 15,
   "metadata": {},
   "outputs": [],
   "source": [
    "if (num_train_sequences%batch_size) == 0:\n",
    "    steps_per_epoch = int(num_train_sequences/batch_size)\n",
    "else:\n",
    "    steps_per_epoch = (num_train_sequences//batch_size) + 1\n",
    "\n",
    "if (num_val_sequences%batch_size) == 0:\n",
    "    validation_steps = int(num_val_sequences/batch_size)\n",
    "else:\n",
    "    validation_steps = (num_val_sequences//batch_size) + 1"
   ]
  },
  {
   "cell_type": "markdown",
   "metadata": {},
   "source": [
    "Let us now fit the model. This will start training the model and with the help of the checkpoints, you'll be able to save the model at the end of each epoch."
   ]
  },
  {
   "cell_type": "code",
   "execution_count": 16,
   "metadata": {},
   "outputs": [
    {
     "name": "stdout",
     "output_type": "stream",
     "text": [
      "Source path =  ./Project_data/val ; batch size = 10\n",
      "Source path =  ./Project_data/train ; batch size = 10\n",
      "Epoch 1/20\n",
      "67/67 [==============================] - 193s 3s/step - loss: 1.6706 - categorical_accuracy: 0.3158 - val_loss: 1.2182 - val_categorical_accuracy: 0.4700\n",
      "\n",
      "Epoch 00001: saving model to model_init_2019-12-3016_03_22.615887/model-00001-1.67399-0.31674-1.21823-0.47000.h5\n",
      "Epoch 2/20\n",
      "67/67 [==============================] - 31s 468ms/step - loss: 1.4244 - categorical_accuracy: 0.3881 - val_loss: 1.2848 - val_categorical_accuracy: 0.4900\n",
      "\n",
      "Epoch 00002: saving model to model_init_2019-12-3016_03_22.615887/model-00002-1.42435-0.38806-1.28484-0.49000.h5\n",
      "Epoch 3/20\n",
      "67/67 [==============================] - 34s 503ms/step - loss: 1.3634 - categorical_accuracy: 0.4245 - val_loss: 1.2876 - val_categorical_accuracy: 0.4000\n",
      "\n",
      "Epoch 00003: saving model to model_init_2019-12-3016_03_22.615887/model-00003-1.36341-0.42454-1.28756-0.40000.h5\n",
      "\n",
      "Epoch 00003: ReduceLROnPlateau reducing learning rate to 0.0005000000237487257.\n",
      "Epoch 4/20\n",
      "67/67 [==============================] - 30s 449ms/step - loss: 1.1002 - categorical_accuracy: 0.5605 - val_loss: 1.0538 - val_categorical_accuracy: 0.6100\n",
      "\n",
      "Epoch 00004: saving model to model_init_2019-12-3016_03_22.615887/model-00004-1.10017-0.56053-1.05385-0.61000.h5\n",
      "Epoch 5/20\n",
      "67/67 [==============================] - 30s 447ms/step - loss: 0.9203 - categorical_accuracy: 0.6683 - val_loss: 0.9393 - val_categorical_accuracy: 0.6500\n",
      "\n",
      "Epoch 00005: saving model to model_init_2019-12-3016_03_22.615887/model-00005-0.92028-0.66833-0.93927-0.65000.h5\n",
      "Epoch 6/20\n",
      "67/67 [==============================] - 29s 436ms/step - loss: 0.8990 - categorical_accuracy: 0.6567 - val_loss: 1.8822 - val_categorical_accuracy: 0.3600\n",
      "\n",
      "Epoch 00006: saving model to model_init_2019-12-3016_03_22.615887/model-00006-0.89898-0.65672-1.88221-0.36000.h5\n",
      "Epoch 7/20\n",
      "67/67 [==============================] - 31s 460ms/step - loss: 0.8559 - categorical_accuracy: 0.6899 - val_loss: 1.0786 - val_categorical_accuracy: 0.6100\n",
      "\n",
      "Epoch 00007: saving model to model_init_2019-12-3016_03_22.615887/model-00007-0.85587-0.68988-1.07860-0.61000.h5\n",
      "\n",
      "Epoch 00007: ReduceLROnPlateau reducing learning rate to 0.0002500000118743628.\n",
      "Epoch 8/20\n",
      "67/67 [==============================] - 30s 447ms/step - loss: 0.8745 - categorical_accuracy: 0.6418 - val_loss: 0.7915 - val_categorical_accuracy: 0.7000\n",
      "\n",
      "Epoch 00008: saving model to model_init_2019-12-3016_03_22.615887/model-00008-0.87455-0.64179-0.79153-0.70000.h5\n",
      "Epoch 9/20\n",
      "67/67 [==============================] - 30s 442ms/step - loss: 0.6871 - categorical_accuracy: 0.7612 - val_loss: 0.7181 - val_categorical_accuracy: 0.7300\n",
      "\n",
      "Epoch 00009: saving model to model_init_2019-12-3016_03_22.615887/model-00009-0.68713-0.76119-0.71814-0.73000.h5\n",
      "Epoch 10/20\n",
      "67/67 [==============================] - 30s 444ms/step - loss: 0.7658 - categorical_accuracy: 0.6766 - val_loss: 0.9058 - val_categorical_accuracy: 0.6600\n",
      "\n",
      "Epoch 00010: saving model to model_init_2019-12-3016_03_22.615887/model-00010-0.76582-0.67662-0.90581-0.66000.h5\n",
      "Epoch 11/20\n",
      "67/67 [==============================] - 31s 462ms/step - loss: 0.6988 - categorical_accuracy: 0.7463 - val_loss: 0.7678 - val_categorical_accuracy: 0.6800\n",
      "\n",
      "Epoch 00011: saving model to model_init_2019-12-3016_03_22.615887/model-00011-0.69881-0.74627-0.76783-0.68000.h5\n",
      "\n",
      "Epoch 00011: ReduceLROnPlateau reducing learning rate to 0.0001250000059371814.\n",
      "Epoch 12/20\n",
      "67/67 [==============================] - 30s 445ms/step - loss: 0.5984 - categorical_accuracy: 0.7546 - val_loss: 0.5937 - val_categorical_accuracy: 0.7400\n",
      "\n",
      "Epoch 00012: saving model to model_init_2019-12-3016_03_22.615887/model-00012-0.59841-0.75456-0.59372-0.74000.h5\n",
      "Epoch 13/20\n",
      "67/67 [==============================] - 30s 446ms/step - loss: 0.5381 - categorical_accuracy: 0.8010 - val_loss: 0.6022 - val_categorical_accuracy: 0.7300\n",
      "\n",
      "Epoch 00013: saving model to model_init_2019-12-3016_03_22.615887/model-00013-0.53812-0.80100-0.60224-0.73000.h5\n",
      "Epoch 14/20\n",
      "67/67 [==============================] - 29s 438ms/step - loss: 0.6800 - categorical_accuracy: 0.7562 - val_loss: 0.6597 - val_categorical_accuracy: 0.7200\n",
      "\n",
      "Epoch 00014: saving model to model_init_2019-12-3016_03_22.615887/model-00014-0.67999-0.75622-0.65971-0.72000.h5\n",
      "\n",
      "Epoch 00014: ReduceLROnPlateau reducing learning rate to 6.25000029685907e-05.\n",
      "Epoch 15/20\n",
      "67/67 [==============================] - 30s 449ms/step - loss: 0.5402 - categorical_accuracy: 0.7910 - val_loss: 0.5623 - val_categorical_accuracy: 0.7800\n",
      "\n",
      "Epoch 00015: saving model to model_init_2019-12-3016_03_22.615887/model-00015-0.54022-0.79104-0.56228-0.78000.h5\n",
      "Epoch 16/20\n",
      "67/67 [==============================] - 30s 443ms/step - loss: 0.5821 - categorical_accuracy: 0.7944 - val_loss: 0.5445 - val_categorical_accuracy: 0.7800\n",
      "\n",
      "Epoch 00016: saving model to model_init_2019-12-3016_03_22.615887/model-00016-0.58206-0.79436-0.54446-0.78000.h5\n",
      "Epoch 17/20\n",
      "67/67 [==============================] - 31s 455ms/step - loss: 0.5346 - categorical_accuracy: 0.7993 - val_loss: 0.6286 - val_categorical_accuracy: 0.7600\n",
      "\n",
      "Epoch 00017: saving model to model_init_2019-12-3016_03_22.615887/model-00017-0.53463-0.79934-0.62861-0.76000.h5\n",
      "Epoch 18/20\n",
      "67/67 [==============================] - 30s 448ms/step - loss: 0.4820 - categorical_accuracy: 0.8275 - val_loss: 0.5418 - val_categorical_accuracy: 0.7900\n",
      "\n",
      "Epoch 00018: saving model to model_init_2019-12-3016_03_22.615887/model-00018-0.48198-0.82753-0.54178-0.79000.h5\n",
      "Epoch 19/20\n",
      "67/67 [==============================] - 30s 446ms/step - loss: 0.5085 - categorical_accuracy: 0.8093 - val_loss: 0.5292 - val_categorical_accuracy: 0.7800\n",
      "\n",
      "Epoch 00019: saving model to model_init_2019-12-3016_03_22.615887/model-00019-0.50849-0.80929-0.52920-0.78000.h5\n",
      "Epoch 20/20\n",
      "67/67 [==============================] - 30s 443ms/step - loss: 0.5260 - categorical_accuracy: 0.7944 - val_loss: 0.5615 - val_categorical_accuracy: 0.7900\n",
      "\n",
      "Epoch 00020: saving model to model_init_2019-12-3016_03_22.615887/model-00020-0.52599-0.79436-0.56154-0.79000.h5\n"
     ]
    },
    {
     "data": {
      "text/plain": [
       "<keras.callbacks.History at 0x7f36581668d0>"
      ]
     },
     "execution_count": 16,
     "metadata": {},
     "output_type": "execute_result"
    }
   ],
   "source": [
    "batch_size = 10\n",
    "num_epochs = 20\n",
    "model.fit_generator(train_generator, steps_per_epoch=steps_per_epoch, epochs=num_epochs, verbose=1, \n",
    "                    callbacks=callbacks_list, validation_data=val_generator, \n",
    "                    validation_steps=validation_steps, class_weight=None, workers=1, initial_epoch=0)"
   ]
  },
  {
   "cell_type": "code",
   "execution_count": 17,
   "metadata": {
    "scrolled": false
   },
   "outputs": [
    {
     "name": "stdout",
     "output_type": "stream",
     "text": [
      "Epoch 1/20\n",
      "34/34 [==============================] - 17s 487ms/step - loss: 0.5668 - categorical_accuracy: 0.7908 - val_loss: 0.4687 - val_categorical_accuracy: 0.8600\n",
      "\n",
      "Epoch 00001: saving model to model_init_2019-12-3016_03_22.615887/model-00001-0.56684-0.79085-0.46868-0.86000.h5\n",
      "Epoch 2/20\n",
      "34/34 [==============================] - 14s 411ms/step - loss: 0.5619 - categorical_accuracy: 0.7974 - val_loss: 0.6373 - val_categorical_accuracy: 0.7000\n",
      "\n",
      "Epoch 00002: saving model to model_init_2019-12-3016_03_22.615887/model-00002-0.56192-0.79739-0.63727-0.70000.h5\n",
      "Epoch 3/20\n",
      "34/34 [==============================] - 14s 425ms/step - loss: 0.4787 - categorical_accuracy: 0.8137 - val_loss: 0.3494 - val_categorical_accuracy: 0.8800\n",
      "\n",
      "Epoch 00003: saving model to model_init_2019-12-3016_03_22.615887/model-00003-0.47870-0.81373-0.34939-0.88000.h5\n",
      "Epoch 4/20\n",
      "34/34 [==============================] - 14s 412ms/step - loss: 0.5687 - categorical_accuracy: 0.7647 - val_loss: 0.6250 - val_categorical_accuracy: 0.7600\n",
      "\n",
      "Epoch 00004: saving model to model_init_2019-12-3016_03_22.615887/model-00004-0.56871-0.76471-0.62500-0.76000.h5\n",
      "Epoch 5/20\n",
      "34/34 [==============================] - 14s 423ms/step - loss: 0.5119 - categorical_accuracy: 0.8301 - val_loss: 0.4805 - val_categorical_accuracy: 0.8200\n",
      "\n",
      "Epoch 00005: saving model to model_init_2019-12-3016_03_22.615887/model-00005-0.51191-0.83007-0.48050-0.82000.h5\n",
      "\n",
      "Epoch 00005: ReduceLROnPlateau reducing learning rate to 3.125000148429535e-05.\n",
      "Epoch 6/20\n",
      "34/34 [==============================] - 13s 392ms/step - loss: 0.3792 - categorical_accuracy: 0.8725 - val_loss: 0.5366 - val_categorical_accuracy: 0.8000\n",
      "\n",
      "Epoch 00006: saving model to model_init_2019-12-3016_03_22.615887/model-00006-0.37915-0.87255-0.53659-0.80000.h5\n",
      "Epoch 7/20\n",
      "34/34 [==============================] - 14s 417ms/step - loss: 0.3545 - categorical_accuracy: 0.8791 - val_loss: 0.3867 - val_categorical_accuracy: 0.8200\n",
      "\n",
      "Epoch 00007: saving model to model_init_2019-12-3016_03_22.615887/model-00007-0.35455-0.87908-0.38672-0.82000.h5\n",
      "\n",
      "Epoch 00007: ReduceLROnPlateau reducing learning rate to 1.5625000742147677e-05.\n",
      "Epoch 8/20\n",
      "34/34 [==============================] - 14s 404ms/step - loss: 0.4577 - categorical_accuracy: 0.8072 - val_loss: 0.6745 - val_categorical_accuracy: 0.7400\n",
      "\n",
      "Epoch 00008: saving model to model_init_2019-12-3016_03_22.615887/model-00008-0.45767-0.80719-0.67451-0.74000.h5\n",
      "Epoch 9/20\n",
      "34/34 [==============================] - 14s 420ms/step - loss: 0.4950 - categorical_accuracy: 0.7876 - val_loss: 0.4482 - val_categorical_accuracy: 0.8600\n",
      "\n",
      "Epoch 00009: saving model to model_init_2019-12-3016_03_22.615887/model-00009-0.49501-0.78758-0.44820-0.86000.h5\n",
      "\n",
      "Epoch 00009: ReduceLROnPlateau reducing learning rate to 7.812500371073838e-06.\n",
      "Epoch 10/20\n",
      "34/34 [==============================] - 14s 419ms/step - loss: 0.6101 - categorical_accuracy: 0.7810 - val_loss: 0.6262 - val_categorical_accuracy: 0.7200\n",
      "\n",
      "Epoch 00010: saving model to model_init_2019-12-3016_03_22.615887/model-00010-0.61006-0.78105-0.62616-0.72000.h5\n",
      "Epoch 11/20\n",
      "34/34 [==============================] - 15s 432ms/step - loss: 0.3821 - categorical_accuracy: 0.8824 - val_loss: 0.4640 - val_categorical_accuracy: 0.8200\n",
      "\n",
      "Epoch 00011: saving model to model_init_2019-12-3016_03_22.615887/model-00011-0.38211-0.88235-0.46402-0.82000.h5\n",
      "\n",
      "Epoch 00011: ReduceLROnPlateau reducing learning rate to 3.906250185536919e-06.\n",
      "Epoch 12/20\n",
      "34/34 [==============================] - 14s 405ms/step - loss: 0.4128 - categorical_accuracy: 0.8725 - val_loss: 0.5518 - val_categorical_accuracy: 0.8200\n",
      "\n",
      "Epoch 00012: saving model to model_init_2019-12-3016_03_22.615887/model-00012-0.41279-0.87255-0.55178-0.82000.h5\n",
      "Epoch 13/20\n",
      "34/34 [==============================] - 14s 408ms/step - loss: 0.4118 - categorical_accuracy: 0.8562 - val_loss: 0.4094 - val_categorical_accuracy: 0.8400\n",
      "\n",
      "Epoch 00013: saving model to model_init_2019-12-3016_03_22.615887/model-00013-0.41179-0.85621-0.40936-0.84000.h5\n",
      "\n",
      "Epoch 00013: ReduceLROnPlateau reducing learning rate to 1.9531250927684596e-06.\n",
      "Epoch 14/20\n",
      "34/34 [==============================] - 14s 404ms/step - loss: 0.4485 - categorical_accuracy: 0.8235 - val_loss: 0.4921 - val_categorical_accuracy: 0.8600\n",
      "\n",
      "Epoch 00014: saving model to model_init_2019-12-3016_03_22.615887/model-00014-0.44848-0.82353-0.49215-0.86000.h5\n",
      "Epoch 15/20\n",
      "34/34 [==============================] - 14s 413ms/step - loss: 0.4744 - categorical_accuracy: 0.8137 - val_loss: 0.4445 - val_categorical_accuracy: 0.8400\n",
      "\n",
      "Epoch 00015: saving model to model_init_2019-12-3016_03_22.615887/model-00015-0.47443-0.81373-0.44447-0.84000.h5\n",
      "\n",
      "Epoch 00015: ReduceLROnPlateau reducing learning rate to 9.765625463842298e-07.\n",
      "Epoch 16/20\n",
      "34/34 [==============================] - 14s 401ms/step - loss: 0.4628 - categorical_accuracy: 0.8366 - val_loss: 0.5958 - val_categorical_accuracy: 0.7800\n",
      "\n",
      "Epoch 00016: saving model to model_init_2019-12-3016_03_22.615887/model-00016-0.46278-0.83660-0.59582-0.78000.h5\n",
      "Epoch 17/20\n",
      "34/34 [==============================] - 14s 422ms/step - loss: 0.4457 - categorical_accuracy: 0.8137 - val_loss: 0.4420 - val_categorical_accuracy: 0.8400\n",
      "\n",
      "Epoch 00017: saving model to model_init_2019-12-3016_03_22.615887/model-00017-0.44568-0.81373-0.44201-0.84000.h5\n",
      "\n",
      "Epoch 00017: ReduceLROnPlateau reducing learning rate to 4.882812731921149e-07.\n",
      "Epoch 18/20\n",
      "34/34 [==============================] - 14s 412ms/step - loss: 0.4547 - categorical_accuracy: 0.8235 - val_loss: 0.5192 - val_categorical_accuracy: 0.8200\n",
      "\n",
      "Epoch 00018: saving model to model_init_2019-12-3016_03_22.615887/model-00018-0.45468-0.82353-0.51922-0.82000.h5\n",
      "Epoch 19/20\n",
      "34/34 [==============================] - 14s 420ms/step - loss: 0.3648 - categorical_accuracy: 0.8987 - val_loss: 0.4963 - val_categorical_accuracy: 0.8200\n",
      "\n",
      "Epoch 00019: saving model to model_init_2019-12-3016_03_22.615887/model-00019-0.36477-0.89869-0.49632-0.82000.h5\n",
      "\n",
      "Epoch 00019: ReduceLROnPlateau reducing learning rate to 2.4414063659605745e-07.\n",
      "Epoch 20/20\n",
      "34/34 [==============================] - 14s 414ms/step - loss: 0.5005 - categorical_accuracy: 0.8105 - val_loss: 0.5069 - val_categorical_accuracy: 0.8200\n",
      "\n",
      "Epoch 00020: saving model to model_init_2019-12-3016_03_22.615887/model-00020-0.50048-0.81046-0.50686-0.82000.h5\n"
     ]
    },
    {
     "data": {
      "text/plain": [
       "<keras.callbacks.History at 0x7f3647bdc0b8>"
      ]
     },
     "execution_count": 17,
     "metadata": {},
     "output_type": "execute_result"
    }
   ],
   "source": [
    "batch_size = 20\n",
    "num_epochs = 20\n",
    "\n",
    "if (num_train_sequences%batch_size) == 0:\n",
    "    steps_per_epoch = int(num_train_sequences/batch_size)\n",
    "else:\n",
    "    steps_per_epoch = (num_train_sequences//batch_size) + 1\n",
    "\n",
    "if (num_val_sequences%batch_size) == 0:\n",
    "    validation_steps = int(num_val_sequences/batch_size)\n",
    "else:\n",
    "    validation_steps = (num_val_sequences//batch_size) + 1\n",
    "    \n",
    "model.fit_generator(train_generator, steps_per_epoch=steps_per_epoch, epochs=num_epochs, verbose=1, \n",
    "                    callbacks=callbacks_list, validation_data=val_generator, \n",
    "                    validation_steps=validation_steps, class_weight=None, workers=1, initial_epoch=0)"
   ]
  },
  {
   "cell_type": "code",
   "execution_count": 18,
   "metadata": {},
   "outputs": [
    {
     "name": "stdout",
     "output_type": "stream",
     "text": [
      "Epoch 1/30\n",
      "23/23 [==============================] - 10s 430ms/step - loss: 0.4109 - categorical_accuracy: 0.8454 - val_loss: 0.6844 - val_categorical_accuracy: 0.6750\n",
      "\n",
      "Epoch 00001: saving model to model_init_2019-12-3016_03_22.615887/model-00001-0.41088-0.84541-0.68443-0.67500.h5\n",
      "Epoch 2/30\n",
      "23/23 [==============================] - 10s 425ms/step - loss: 0.4092 - categorical_accuracy: 0.8406 - val_loss: 0.5318 - val_categorical_accuracy: 0.8250\n",
      "\n",
      "Epoch 00002: saving model to model_init_2019-12-3016_03_22.615887/model-00002-0.40917-0.84058-0.53175-0.82500.h5\n",
      "Epoch 3/30\n",
      "23/23 [==============================] - 11s 460ms/step - loss: 0.5429 - categorical_accuracy: 0.7923 - val_loss: 0.4232 - val_categorical_accuracy: 0.8750\n",
      "\n",
      "Epoch 00003: saving model to model_init_2019-12-3016_03_22.615887/model-00003-0.54292-0.79227-0.42325-0.87500.h5\n",
      "Epoch 4/30\n",
      "23/23 [==============================] - 10s 429ms/step - loss: 0.4353 - categorical_accuracy: 0.8164 - val_loss: 0.4858 - val_categorical_accuracy: 0.8250\n",
      "\n",
      "Epoch 00004: saving model to model_init_2019-12-3016_03_22.615887/model-00004-0.43533-0.81643-0.48582-0.82500.h5\n",
      "Epoch 5/30\n",
      "23/23 [==============================] - 10s 432ms/step - loss: 0.4467 - categorical_accuracy: 0.8357 - val_loss: 0.5269 - val_categorical_accuracy: 0.8000\n",
      "\n",
      "Epoch 00005: saving model to model_init_2019-12-3016_03_22.615887/model-00005-0.44666-0.83575-0.52691-0.80000.h5\n",
      "\n",
      "Epoch 00005: ReduceLROnPlateau reducing learning rate to 1.2207031829802872e-07.\n",
      "Epoch 6/30\n",
      "23/23 [==============================] - 9s 399ms/step - loss: 0.5600 - categorical_accuracy: 0.7729 - val_loss: 0.4803 - val_categorical_accuracy: 0.8500\n",
      "\n",
      "Epoch 00006: saving model to model_init_2019-12-3016_03_22.615887/model-00006-0.56005-0.77295-0.48031-0.85000.h5\n",
      "Epoch 7/30\n",
      "23/23 [==============================] - 10s 425ms/step - loss: 0.4392 - categorical_accuracy: 0.8309 - val_loss: 0.5839 - val_categorical_accuracy: 0.7500\n",
      "\n",
      "Epoch 00007: saving model to model_init_2019-12-3016_03_22.615887/model-00007-0.43918-0.83092-0.58386-0.75000.h5\n",
      "\n",
      "Epoch 00007: ReduceLROnPlateau reducing learning rate to 6.103515914901436e-08.\n",
      "Epoch 8/30\n",
      "23/23 [==============================] - 10s 435ms/step - loss: 0.3534 - categorical_accuracy: 0.8454 - val_loss: 0.4282 - val_categorical_accuracy: 0.8750\n",
      "\n",
      "Epoch 00008: saving model to model_init_2019-12-3016_03_22.615887/model-00008-0.35335-0.84541-0.42822-0.87500.h5\n",
      "Epoch 9/30\n",
      "23/23 [==============================] - 9s 402ms/step - loss: 0.4920 - categorical_accuracy: 0.8116 - val_loss: 0.5591 - val_categorical_accuracy: 0.8000\n",
      "\n",
      "Epoch 00009: saving model to model_init_2019-12-3016_03_22.615887/model-00009-0.49200-0.81159-0.55910-0.80000.h5\n",
      "\n",
      "Epoch 00009: ReduceLROnPlateau reducing learning rate to 3.051757957450718e-08.\n",
      "Epoch 10/30\n",
      "23/23 [==============================] - 9s 408ms/step - loss: 0.3527 - categorical_accuracy: 0.8696 - val_loss: 0.3836 - val_categorical_accuracy: 0.8250\n",
      "\n",
      "Epoch 00010: saving model to model_init_2019-12-3016_03_22.615887/model-00010-0.35271-0.86957-0.38355-0.82500.h5\n",
      "Epoch 11/30\n",
      "23/23 [==============================] - 10s 428ms/step - loss: 0.4763 - categorical_accuracy: 0.8406 - val_loss: 0.5638 - val_categorical_accuracy: 0.8250\n",
      "\n",
      "Epoch 00011: saving model to model_init_2019-12-3016_03_22.615887/model-00011-0.47632-0.84058-0.56380-0.82500.h5\n",
      "Epoch 12/30\n",
      "23/23 [==============================] - 9s 406ms/step - loss: 0.5253 - categorical_accuracy: 0.8068 - val_loss: 0.4439 - val_categorical_accuracy: 0.8750\n",
      "\n",
      "Epoch 00012: saving model to model_init_2019-12-3016_03_22.615887/model-00012-0.52530-0.80676-0.44394-0.87500.h5\n",
      "\n",
      "Epoch 00012: ReduceLROnPlateau reducing learning rate to 1.525878978725359e-08.\n",
      "Epoch 13/30\n",
      "23/23 [==============================] - 9s 403ms/step - loss: 0.3491 - categorical_accuracy: 0.8937 - val_loss: 0.5540 - val_categorical_accuracy: 0.7750\n",
      "\n",
      "Epoch 00013: saving model to model_init_2019-12-3016_03_22.615887/model-00013-0.34908-0.89372-0.55399-0.77500.h5\n",
      "Epoch 14/30\n",
      "23/23 [==============================] - 9s 413ms/step - loss: 0.5494 - categorical_accuracy: 0.8261 - val_loss: 0.5493 - val_categorical_accuracy: 0.8000\n",
      "\n",
      "Epoch 00014: saving model to model_init_2019-12-3016_03_22.615887/model-00014-0.54940-0.82609-0.54927-0.80000.h5\n",
      "\n",
      "Epoch 00014: ReduceLROnPlateau reducing learning rate to 7.629394893626795e-09.\n",
      "Epoch 15/30\n",
      "23/23 [==============================] - 10s 438ms/step - loss: 0.4372 - categorical_accuracy: 0.8406 - val_loss: 0.4190 - val_categorical_accuracy: 0.8750\n",
      "\n",
      "Epoch 00015: saving model to model_init_2019-12-3016_03_22.615887/model-00015-0.43722-0.84058-0.41904-0.87500.h5\n",
      "Epoch 16/30\n",
      "23/23 [==============================] - 9s 409ms/step - loss: 0.3905 - categorical_accuracy: 0.8551 - val_loss: 0.5253 - val_categorical_accuracy: 0.8000\n",
      "\n",
      "Epoch 00016: saving model to model_init_2019-12-3016_03_22.615887/model-00016-0.39048-0.85507-0.52528-0.80000.h5\n",
      "\n",
      "Epoch 00016: ReduceLROnPlateau reducing learning rate to 3.814697446813398e-09.\n",
      "Epoch 17/30\n",
      "23/23 [==============================] - 10s 427ms/step - loss: 0.3604 - categorical_accuracy: 0.9082 - val_loss: 0.5243 - val_categorical_accuracy: 0.8000\n",
      "\n",
      "Epoch 00017: saving model to model_init_2019-12-3016_03_22.615887/model-00017-0.36041-0.90821-0.52425-0.80000.h5\n",
      "Epoch 18/30\n",
      "23/23 [==============================] - 10s 418ms/step - loss: 0.4334 - categorical_accuracy: 0.8406 - val_loss: 0.4815 - val_categorical_accuracy: 0.8250\n",
      "\n",
      "Epoch 00018: saving model to model_init_2019-12-3016_03_22.615887/model-00018-0.43335-0.84058-0.48145-0.82500.h5\n",
      "\n",
      "Epoch 00018: ReduceLROnPlateau reducing learning rate to 1.907348723406699e-09.\n",
      "Epoch 19/30\n",
      "23/23 [==============================] - 10s 437ms/step - loss: 0.4933 - categorical_accuracy: 0.8454 - val_loss: 0.4664 - val_categorical_accuracy: 0.8250\n",
      "\n",
      "Epoch 00019: saving model to model_init_2019-12-3016_03_22.615887/model-00019-0.49327-0.84541-0.46639-0.82500.h5\n",
      "Epoch 20/30\n",
      "23/23 [==============================] - 10s 428ms/step - loss: 0.3514 - categorical_accuracy: 0.8841 - val_loss: 0.5311 - val_categorical_accuracy: 0.8250\n",
      "\n",
      "Epoch 00020: saving model to model_init_2019-12-3016_03_22.615887/model-00020-0.35137-0.88406-0.53111-0.82500.h5\n",
      "\n",
      "Epoch 00020: ReduceLROnPlateau reducing learning rate to 9.536743617033494e-10.\n",
      "Epoch 21/30\n",
      "23/23 [==============================] - 10s 414ms/step - loss: 0.4487 - categorical_accuracy: 0.8019 - val_loss: 0.4714 - val_categorical_accuracy: 0.8250\n",
      "\n",
      "Epoch 00021: saving model to model_init_2019-12-3016_03_22.615887/model-00021-0.44867-0.80193-0.47136-0.82500.h5\n",
      "Epoch 22/30\n",
      "23/23 [==============================] - 10s 433ms/step - loss: 0.3861 - categorical_accuracy: 0.8744 - val_loss: 0.5958 - val_categorical_accuracy: 0.7500\n",
      "\n",
      "Epoch 00022: saving model to model_init_2019-12-3016_03_22.615887/model-00022-0.38612-0.87440-0.59578-0.75000.h5\n",
      "\n",
      "Epoch 00022: ReduceLROnPlateau reducing learning rate to 4.768371808516747e-10.\n",
      "Epoch 23/30\n",
      "23/23 [==============================] - 9s 396ms/step - loss: 0.4764 - categorical_accuracy: 0.8261 - val_loss: 0.4395 - val_categorical_accuracy: 0.8750\n",
      "\n",
      "Epoch 00023: saving model to model_init_2019-12-3016_03_22.615887/model-00023-0.47643-0.82609-0.43954-0.87500.h5\n",
      "Epoch 24/30\n",
      "23/23 [==============================] - 10s 430ms/step - loss: 0.3738 - categorical_accuracy: 0.8937 - val_loss: 0.5899 - val_categorical_accuracy: 0.7750\n",
      "\n",
      "Epoch 00024: saving model to model_init_2019-12-3016_03_22.615887/model-00024-0.37377-0.89372-0.58987-0.77500.h5\n",
      "\n",
      "Epoch 00024: ReduceLROnPlateau reducing learning rate to 2.3841859042583735e-10.\n",
      "Epoch 25/30\n",
      "23/23 [==============================] - 10s 438ms/step - loss: 0.4572 - categorical_accuracy: 0.8164 - val_loss: 0.4365 - val_categorical_accuracy: 0.8750\n",
      "\n",
      "Epoch 00025: saving model to model_init_2019-12-3016_03_22.615887/model-00025-0.45719-0.81643-0.43646-0.87500.h5\n",
      "Epoch 26/30\n",
      "23/23 [==============================] - 10s 421ms/step - loss: 0.4090 - categorical_accuracy: 0.8261 - val_loss: 0.4814 - val_categorical_accuracy: 0.8250\n",
      "\n",
      "Epoch 00026: saving model to model_init_2019-12-3016_03_22.615887/model-00026-0.40896-0.82609-0.48142-0.82500.h5\n",
      "\n",
      "Epoch 00026: ReduceLROnPlateau reducing learning rate to 1.1920929521291868e-10.\n",
      "Epoch 27/30\n"
     ]
    },
    {
     "name": "stdout",
     "output_type": "stream",
     "text": [
      "23/23 [==============================] - 10s 421ms/step - loss: 0.5350 - categorical_accuracy: 0.7826 - val_loss: 0.5836 - val_categorical_accuracy: 0.7500\n",
      "\n",
      "Epoch 00027: saving model to model_init_2019-12-3016_03_22.615887/model-00027-0.53501-0.78261-0.58357-0.75000.h5\n",
      "Epoch 28/30\n",
      "23/23 [==============================] - 10s 434ms/step - loss: 0.4286 - categorical_accuracy: 0.8599 - val_loss: 0.4121 - val_categorical_accuracy: 0.8750\n",
      "\n",
      "Epoch 00028: saving model to model_init_2019-12-3016_03_22.615887/model-00028-0.42859-0.85990-0.41213-0.87500.h5\n",
      "\n",
      "Epoch 00028: ReduceLROnPlateau reducing learning rate to 5.960464760645934e-11.\n",
      "Epoch 29/30\n",
      "23/23 [==============================] - 9s 382ms/step - loss: 0.3584 - categorical_accuracy: 0.8599 - val_loss: 0.3447 - val_categorical_accuracy: 0.9000\n",
      "\n",
      "Epoch 00029: saving model to model_init_2019-12-3016_03_22.615887/model-00029-0.35836-0.85990-0.34475-0.90000.h5\n",
      "Epoch 30/30\n",
      "23/23 [==============================] - 10s 442ms/step - loss: 0.5205 - categorical_accuracy: 0.8019 - val_loss: 0.5815 - val_categorical_accuracy: 0.7500\n",
      "\n",
      "Epoch 00030: saving model to model_init_2019-12-3016_03_22.615887/model-00030-0.52049-0.80193-0.58148-0.75000.h5\n"
     ]
    },
    {
     "data": {
      "text/plain": [
       "<keras.callbacks.History at 0x7f3647bdc3c8>"
      ]
     },
     "execution_count": 18,
     "metadata": {},
     "output_type": "execute_result"
    }
   ],
   "source": [
    "batch_size = 30\n",
    "num_epochs = 30\n",
    "\n",
    "if (num_train_sequences%batch_size) == 0:\n",
    "    steps_per_epoch = int(num_train_sequences/batch_size)\n",
    "else:\n",
    "    steps_per_epoch = (num_train_sequences//batch_size) + 1\n",
    "\n",
    "if (num_val_sequences%batch_size) == 0:\n",
    "    validation_steps = int(num_val_sequences/batch_size)\n",
    "else:\n",
    "    validation_steps = (num_val_sequences//batch_size) + 1\n",
    "    \n",
    "model.fit_generator(train_generator, steps_per_epoch=steps_per_epoch, epochs=num_epochs, verbose=1, \n",
    "                    callbacks=callbacks_list, validation_data=val_generator, \n",
    "                    validation_steps=validation_steps, class_weight=None, workers=1, initial_epoch=0)"
   ]
  },
  {
   "cell_type": "code",
   "execution_count": null,
   "metadata": {},
   "outputs": [],
   "source": []
  },
  {
   "cell_type": "code",
   "execution_count": null,
   "metadata": {},
   "outputs": [],
   "source": []
  },
  {
   "cell_type": "code",
   "execution_count": null,
   "metadata": {},
   "outputs": [],
   "source": []
  }
 ],
 "metadata": {
  "kernelspec": {
   "display_name": "Python 3",
   "language": "python",
   "name": "python3"
  },
  "language_info": {
   "codemirror_mode": {
    "name": "ipython",
    "version": 3
   },
   "file_extension": ".py",
   "mimetype": "text/x-python",
   "name": "python",
   "nbconvert_exporter": "python",
   "pygments_lexer": "ipython3",
   "version": "3.6.8"
  }
 },
 "nbformat": 4,
 "nbformat_minor": 2
}
